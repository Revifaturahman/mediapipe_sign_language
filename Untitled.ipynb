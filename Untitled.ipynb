{
 "cells": [
  {
   "cell_type": "code",
   "execution_count": 14,
   "id": "858e5696-5f50-48f3-ae4e-0204fef619e5",
   "metadata": {},
   "outputs": [
    {
     "name": "stdout",
     "output_type": "stream",
     "text": [
      "File ditemukan: ['gesture_dataset_A_20250806110632.csv', 'gesture_dataset_B_20250806110806.csv', 'gesture_dataset_C_20250806110915.csv', 'gesture_dataset_D_20250806111124.csv', 'gesture_dataset_E_20250806111305.csv', 'gesture_dataset_F_20250806111447.csv', 'gesture_dataset_G_20250806111900.csv', 'gesture_dataset_halo_20250806103542.csv', 'gesture_dataset_H_20250806112152.csv', 'gesture_dataset_I_20250806112400.csv', 'gesture_dataset_K_20250806112746.csv', 'gesture_dataset_L_20250806112925.csv', 'gesture_dataset_M_20250806113158.csv', 'gesture_dataset_nama_20250806104733.csv', 'gesture_dataset_saya_20250806103227.csv']\n"
     ]
    }
   ],
   "source": [
    "import pandas as pd\n",
    "import glob\n",
    "from sklearn.model_selection import train_test_split\n",
    "from sklearn.ensemble import RandomForestClassifier\n",
    "from sklearn.preprocessing import LabelEncoder\n",
    "import joblib\n",
    "\n",
    "# Cari semua file dataset gesture\n",
    "csv_files = glob.glob(\"gesture_dataset_*.csv\")\n",
    "print(f\"File ditemukan: {csv_files}\")\n"
   ]
  },
  {
   "cell_type": "code",
   "execution_count": 15,
   "id": "dcb15c18-3ad1-42c0-b91c-7ffe043ef9a1",
   "metadata": {},
   "outputs": [
    {
     "name": "stdout",
     "output_type": "stream",
     "text": [
      "Jumlah data sebelum cleaning: 750\n",
      "Jumlah data setelah cleaning: 750\n"
     ]
    }
   ],
   "source": [
    "# Gabungkan semua file\n",
    "df_list = [pd.read_csv(file) for file in csv_files]\n",
    "df = pd.concat(df_list, ignore_index=True)\n",
    "\n",
    "# Hapus baris kosong jika ada\n",
    "print(\"Jumlah data sebelum cleaning:\", len(df))\n",
    "df.dropna(inplace=True)\n",
    "print(\"Jumlah data setelah cleaning:\", len(df))\n"
   ]
  },
  {
   "cell_type": "code",
   "execution_count": 16,
   "id": "4c9ba7c2-7d20-4e1a-abe6-e1bf86eee714",
   "metadata": {},
   "outputs": [
    {
     "name": "stdout",
     "output_type": "stream",
     "text": [
      "Label encoder disimpan.\n"
     ]
    }
   ],
   "source": [
    "# Pisahkan fitur dan label\n",
    "X = df.drop(\"label\", axis=1)\n",
    "y = df[\"label\"]\n",
    "\n",
    "# Encode label\n",
    "le = LabelEncoder()\n",
    "y_encoded = le.fit_transform(y)\n",
    "\n",
    "# Simpan label encoder\n",
    "joblib.dump(le, \"encoder.pkl\")\n",
    "print(\"Label encoder disimpan.\")\n"
   ]
  },
  {
   "cell_type": "code",
   "execution_count": 17,
   "id": "6032decb-7d20-4dbf-baaf-990c990e2e4a",
   "metadata": {},
   "outputs": [
    {
     "name": "stdout",
     "output_type": "stream",
     "text": [
      "Akurasi model: 0.87\n"
     ]
    }
   ],
   "source": [
    "# Bagi data train/test\n",
    "X_train, X_test, y_train, y_test = train_test_split(X, y_encoded, test_size=0.2, random_state=42)\n",
    "\n",
    "# Latih model\n",
    "model = RandomForestClassifier()\n",
    "model.fit(X_train, y_train)\n",
    "\n",
    "# Evaluasi model\n",
    "accuracy = model.score(X_test, y_test)\n",
    "print(f\"Akurasi model: {accuracy:.2f}\")\n"
   ]
  },
  {
   "cell_type": "code",
   "execution_count": 18,
   "id": "36a5fda1-7b0b-4da4-9d9f-87e7b7f3df82",
   "metadata": {},
   "outputs": [
    {
     "name": "stdout",
     "output_type": "stream",
     "text": [
      "Model disimpan ke gesture_model.pkl\n"
     ]
    }
   ],
   "source": [
    "# Simpan model ke file\n",
    "joblib.dump(model, \"model.pkl\")\n",
    "print(\"Model disimpan ke gesture_model.pkl\")\n"
   ]
  },
  {
   "cell_type": "code",
   "execution_count": 21,
   "id": "7277f9d0-a699-4cff-a38c-36c00d36a615",
   "metadata": {},
   "outputs": [
    {
     "name": "stdout",
     "output_type": "stream",
     "text": [
      "Tipe objek model yang dimuat: <class 'sklearn.ensemble._forest.RandomForestClassifier'>\n",
      "✅ Model valid, memiliki method .predict()\n"
     ]
    }
   ],
   "source": [
    "# Cek apakah yang dimuat benar-benar model\n",
    "loaded_model = joblib.load(\"model.pkl\")\n",
    "print(\"Tipe objek model yang dimuat:\", type(loaded_model))\n",
    "\n",
    "# Cek apakah punya method .predict()\n",
    "if hasattr(loaded_model, \"predict\"):\n",
    "    print(\"✅ Model valid, memiliki method .predict()\")\n",
    "else:\n",
    "    print(\"❌ Bukan model valid. Tidak memiliki method .predict()\")\n"
   ]
  },
  {
   "cell_type": "code",
   "execution_count": null,
   "id": "69fec13f-b8ba-4d0e-b523-3adf875fc9d4",
   "metadata": {},
   "outputs": [],
   "source": []
  }
 ],
 "metadata": {
  "kernelspec": {
   "display_name": "Python 3 (ipykernel)",
   "language": "python",
   "name": "python3"
  },
  "language_info": {
   "codemirror_mode": {
    "name": "ipython",
    "version": 3
   },
   "file_extension": ".py",
   "mimetype": "text/x-python",
   "name": "python",
   "nbconvert_exporter": "python",
   "pygments_lexer": "ipython3",
   "version": "3.11.9"
  }
 },
 "nbformat": 4,
 "nbformat_minor": 5
}
